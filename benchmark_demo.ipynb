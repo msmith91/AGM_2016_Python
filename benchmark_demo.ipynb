{
 "cells": [
  {
   "cell_type": "markdown",
   "metadata": {},
   "source": [
    "# Python Demo For All-GRAD Meetup \n",
    "\n",
    "#### Michael Smith,  May, 2016\n",
    "\n",
    "## Intro\n",
    "\n",
    "This notebook is to serve as a demonstration of a real use-case for Python and some of it's common data science packages.  In helping prepare analysis to be used in Nielsen's presentation for the POI Conference, I leveraged Python to do some of the repeatable analysis so that I could produce results quickly and in an easily repeatable method.  The class I built is called 'benchmark' and it includes the following functions:\n",
    "\n",
    "    - read_data:  Takes a csv file and converts it to a pandas dataframe\n",
    "    - find_roi:  Caluclates ROI given an aggregation classifier and a year\n",
    "    - find_coeff:  Prepares requested coefficients from Norms models\n",
    "    - coeff_roi_reg:  Plots ROI vs a requested norms coefficient and the trendline and gives the regression equation and R^2\n",
    "    - elast_clustering:  Runs K-Means analysis for a given Norms coefficient against ROI for n clusters (n : [1,6]) \n",
    "        and gives both the plot of resulting clusters and returns the labeling in a dataframe"
   ]
  },
  {
   "cell_type": "markdown",
   "metadata": {},
   "source": [
    "## Using an IPython Notebook:\n",
    "This notebook is made up of cells.  There are two types within this particular notebook:  markdown (like this one) and code (those with \"In []\" next to them).  To run a cell of code, click inside that cell and press Shift+Enter.  This runs the cell and places you within the next cell."
   ]
  },
  {
   "cell_type": "markdown",
   "metadata": {},
   "source": [
    "## Package selection\n",
    "First we pull in the required packages for handling datasets and analyzing data"
   ]
  },
  {
   "cell_type": "code",
   "execution_count": null,
   "metadata": {
    "collapsed": false
   },
   "outputs": [],
   "source": [
    "import pandas as pd\n",
    "import numpy as np\n",
    "import statsmodels.api as sm\n",
    "import matplotlib.pyplot as plt\n",
    "import bokeh.io\n",
    "import bokeh.mpl\n",
    "import bokeh.plotting\n",
    "from sklearn.cluster import KMeans\n",
    "bokeh.io.output_notebook()\n",
    "\n",
    "%install_ext https://raw.githubusercontent.com/rasbt/watermark/master/watermark.py\n",
    "%load_ext watermark"
   ]
  },
  {
   "cell_type": "markdown",
   "metadata": {},
   "source": [
    "## Notebook Options\n",
    "These are specific for the IPython (Jupyter) notebook environment.\n",
    "\n",
    "The first, '%matplotlib inline', dictates that any plots will be rendered inline with the cells in this notebook.\n",
    "\n",
    "The second is a package, '%watermark' which keeps track of versions of Python and packages being used within this notebook.  It is helpful and good practice to track this information for reproducibility.\n"
   ]
  },
  {
   "cell_type": "code",
   "execution_count": null,
   "metadata": {
    "collapsed": false
   },
   "outputs": [],
   "source": [
    "%matplotlib inline\n",
    "%watermark -v -m -p pandas,numpy,statsmodels,matplotlib"
   ]
  },
  {
   "cell_type": "markdown",
   "metadata": {},
   "source": [
    "## Creating the Benchmarks class.\n",
    "Below is the major chunk of code where I define the class and functions within it.  You can see the basic structure very easily by following the indention structure.\n",
    "\n",
    "    Class\n",
    "        function 1(options):\n",
    "            code\n",
    "        \n",
    "        ...\n",
    "        \n",
    "        function n(options):\n",
    "            code\n",
    "\n",
    "Running this cell of code will 'initialize' the class and make it available throughout the rest of the python session."
   ]
  },
  {
   "cell_type": "code",
   "execution_count": null,
   "metadata": {
    "collapsed": false,
    "scrolled": true
   },
   "outputs": [],
   "source": [
    "class benchmark(object):\n",
    "    \"\"\"Class for doing some analysis for POI Conference Presentation\"\"\"\n",
    "    \n",
    "    def read_data(csv_path):\n",
    "        \"\"\"Reads in data which is already merged in the form\n",
    "           Benchmark data aggregated by country,year,category,roi range followed by\n",
    "           model coefficients from Core Models\"\"\"\n",
    "        \n",
    "        try:\n",
    "            data = pd.read_csv(csv_path)\n",
    "            data.columns = ['category', 'year','market_channel', 'department',\n",
    "                'roi_range', 'value', 'baseline_value', 'trade_spend_total',\n",
    "                'trade_spend_incl_cogs', 'number_of_tpr_weeks',\n",
    "                'number_of_display_weeks', 'number_of_feature_weeks',\n",
    "                'number_of_event_weeks', 'mfr_roi_value', 'trade_direct_promo_spend',\n",
    "                'number_of_weeks','number_of_records', 'PPI', 'BP', 'FEDI', 'DISO',\n",
    "                'FEAO']\n",
    "            \n",
    "        except ValueError:\n",
    "            print('File is either unavailable or non-existent.')\n",
    "        \n",
    "        return data\n",
    "\n",
    "    def find_roi(in_data,agg_var='category',year=2015):\n",
    "        \"\"\"Calculates ROI for a Benchmark dataset given a level of aggregation and year\"\"\"\n",
    "        \n",
    "        roi_data = in_data[[agg_var,'year','roi_range','mfr_roi_value','trade_direct_promo_spend']]\n",
    "        roi_data = roi_data[(roi_data.year==year) & (roi_data.roi_range.notnull())]\n",
    "        roi_pivot = pd.pivot_table(roi_data,values=['mfr_roi_value','trade_direct_promo_spend'], \n",
    "                                   index=[agg_var],aggfunc='sum')\n",
    "\n",
    "        roi_pivot['roi'] = (roi_pivot['mfr_roi_value']/roi_pivot['trade_direct_promo_spend']) + 1\n",
    "        \n",
    "        return roi_pivot.drop(roi_pivot.columns[[0,1]],axis=1)\n",
    "        \n",
    "    def find_coeff(in_data,agg_var='category',coeff='PPI'):\n",
    "        \"\"\"Compiles requested Norms coefficient given an aggregation level\"\"\"\n",
    "        \n",
    "        return pd.pivot_table(in_data,values=[coeff],index=[agg_var],aggfunc='mean')\n",
    "        \n",
    "    def graph(formula,x_range):\n",
    "        \"\"\"Helper function for graphing a line equation\"\"\"\n",
    "        \n",
    "        x = np.array(x_range)\n",
    "        y = eval(formula)\n",
    "        plt.plot(x,y)\n",
    "        \n",
    "    def coeff_roi_reg(in_data,agg_var,year,norms_coeff,path='none',interactive='False'):\n",
    "        \"\"\"Plots ROI vs given Norms coefficient and plots the regression line.  Output is a plot\n",
    "           with the line, the equation, and the R-Squared included\"\"\"\n",
    "        \n",
    "        coeff_roi_data = pd.merge(benchmark.find_roi(in_data,agg_var,year),\n",
    "                                  benchmark.find_coeff(in_data,agg_var,norms_coeff),\n",
    "                                  left_index=True, right_index=True)\n",
    "        coeff_roi_data = coeff_roi_data[coeff_roi_data['roi'].notnull() & coeff_roi_data[norms_coeff].notnull()]\n",
    "        \n",
    "        roi = coeff_roi_data['roi']\n",
    "        \n",
    "        coeff = sm.add_constant(coeff_roi_data[norms_coeff])\n",
    "        \n",
    "        model = sm.OLS(roi,coeff)\n",
    "        results = model.fit()\n",
    "        #find equation for graph\n",
    "        intercept = round(results.params[0],3)\n",
    "        coeff_effect = round(results.params[1],3)\n",
    "        trendline = str(intercept)+'+x*'+str(coeff_effect)\n",
    "        r2 = round( results.rsquared, 3)\n",
    "        \n",
    "        plt.plot(coeff[norms_coeff],roi,'o')\n",
    "        \n",
    "        benchmark.graph(trendline,coeff[norms_coeff])\n",
    "        \n",
    "        plt.xlabel(norms_coeff)\n",
    "        plt.ylabel('ROI')\n",
    "        plt.title('Promo ROI vs ' + norms_coeff + ' by ' + agg_var + ' - ' + str(year))        \n",
    "        plt.text(min(coeff[norms_coeff]),max(roi)-.15,'ROI ~ ' + str(intercept) + str(coeff_effect) + '*' + norms_coeff \n",
    "                 + '\\n' + 'R-Squared: '+str(r2))\n",
    "        if(path=='none'):\n",
    "            if(interactive):\n",
    "                bokeh.plotting.show(bokeh.mpl.to_bokeh())\n",
    "            else:\n",
    "                plt.show()\n",
    "        else:\n",
    "            plt.savefig(path)\n",
    "    \n",
    "    def elast_clustering(in_data,norms_coeff,year,clusters,interactive=False):\n",
    "        \"\"\"Runs K-Means analysis for a given Norms coefficient against ROI for n clusters (n : [1,6]) \n",
    "            and gives both the plot of resulting clusters and returns the labeling in a dataframe\"\"\"\n",
    "        \n",
    "        coeff_roi_data = pd.merge(benchmark.find_roi(in_data,'category',year),\n",
    "                                  benchmark.find_coeff(in_data,'category',norms_coeff),\n",
    "                                  left_index=True, right_index=True)\n",
    "        coeff_roi_data = coeff_roi_data[coeff_roi_data['roi'].notnull() & coeff_roi_data[norms_coeff].notnull()]\n",
    "        \n",
    "        colors = ['#4EACC5', '#FF9C34', '#4E9A06','#E9461E','#8B008B','#808080']        \n",
    "        \n",
    "        kmeans = KMeans(n_clusters=clusters)\n",
    "        kmeans.fit(coeff_roi_data)\n",
    "        k_means_labels = kmeans.labels_\n",
    "        k_means_cluster_centers = kmeans.cluster_centers_\n",
    "        \n",
    "        \n",
    "        for k in range(clusters):\n",
    "            my_members = k_means_labels == k\n",
    "            cluster_center = k_means_cluster_centers[k]\n",
    "            plt.plot(coeff_roi_data[norms_coeff][my_members],coeff_roi_data['roi'][my_members],'w',\n",
    "                     markerfacecolor = 'none', markeredgecolor = colors[k], marker='o')\n",
    "            plt.plot(cluster_center[1], cluster_center[0], 'o',\n",
    "                      markerfacecolor=colors[k], markersize=8)\n",
    "        \n",
    "        plt.xlabel(norms_coeff)\n",
    "        plt.ylabel('ROI')\n",
    "        plt.title('K-Means Nearest Neighbors with ' + str(clusters) + ' Clusters.' + ' - ' + str(year))\n",
    "        \n",
    "        if(interactive):\n",
    "            bokeh.plotting.show(bokeh.mpl.to_bokeh())\n",
    "        else:\n",
    "            plt.show()\n",
    "        \n",
    "        coeff_roi_data['label'] = k_means_labels\n",
    "        \n",
    "        return coeff_roi_data"
   ]
  },
  {
   "cell_type": "markdown",
   "metadata": {},
   "source": [
    "## Using the Benchmark class\n",
    "Now that we have these tools created, we can begin using them to produce analysis easily.\n",
    "\n",
    "Let's first read in the sample dataset.  I created a method to read in the csv and name the columns from a less-intuitive NDX fact name to something that makes more sense.  \n",
    "\n",
    "The data contains benchmark data aggregated to year, category, and range of event success (no event, lost money, broke even, made money).  It also contains category-aggregated coefficients from the Norms models.  "
   ]
  },
  {
   "cell_type": "code",
   "execution_count": null,
   "metadata": {
    "collapsed": false,
    "scrolled": false
   },
   "outputs": [],
   "source": [
    "data = benchmark.read_data('new_sample_in.csv')\n",
    "data[1:6]"
   ]
  },
  {
   "cell_type": "markdown",
   "metadata": {},
   "source": [
    "## Promotion Coefficients vs ROI\n",
    "My initial questions were about the relationship between promotion ROI and various Core model coefficients.  Using my method 'coeff_roi_reg', I can easily specify the dataset to be used, whether I want to aggregate by department or by category, and which coefficient I want to compare to ROI. \n",
    "\n",
    "I'm able to make multiple calls easily over a list of strings in a loop to look for potential relationships."
   ]
  },
  {
   "cell_type": "code",
   "execution_count": null,
   "metadata": {
    "collapsed": false
   },
   "outputs": [],
   "source": [
    "for coeff in ['PPI','BP','FEDI','FEAO','DISO']:\n",
    "    benchmark.coeff_roi_reg(data,'category',2015,coeff,interactive=False)"
   ]
  },
  {
   "cell_type": "markdown",
   "metadata": {},
   "source": [
    "## PPI vs ROI Over Time\n",
    "\n",
    "Looking at the above, PPI (promoted price elasticity) seems to have a fairly strong relationship with ROI.  Next, I'm curious to see how that may be changing over time.  We can do this simply by looping over the available years in the data with a constant coefficient selection."
   ]
  },
  {
   "cell_type": "code",
   "execution_count": null,
   "metadata": {
    "collapsed": false,
    "scrolled": false
   },
   "outputs": [],
   "source": [
    "for year in np.unique(data['year']):\n",
    "    benchmark.coeff_roi_reg(data,'category',year,'PPI',interactive=True)    "
   ]
  },
  {
   "cell_type": "markdown",
   "metadata": {},
   "source": [
    "We can see that the relationship gets slightly weaker over time and the effect dampens slightly as well."
   ]
  },
  {
   "cell_type": "markdown",
   "metadata": {},
   "source": [
    "## Elasticity Clustering\n",
    "\n",
    "With this knowledge of an existing relationship between PPI and ROI, I wanted to see if I could break the relationship into meaninful clusters of categories.  For example:  \"High Return, High Elasticity\" vs \"Low Return, Low Elasticity\".  To do this, I use the K-Means module from the Sci-Kit Learn package within a module I created called 'elast_clustering'.  By simply calling the method, we get a plot of the nearest-neighbor clustering.  I loop through various cluster numbers."
   ]
  },
  {
   "cell_type": "code",
   "execution_count": null,
   "metadata": {
    "collapsed": false
   },
   "outputs": [],
   "source": [
    "for n in range(1,6):\n",
    "    benchmark.elast_clustering(data,'PPI',2015,n)"
   ]
  },
  {
   "cell_type": "markdown",
   "metadata": {},
   "source": [
    "## Output Clustering Labels\n",
    "\n",
    "The method, if assigned to a variable, will return a Dataframe of categories, their ROI, coefficient value, and the labeling output from the K-Means cluster assignments.  We could then create a .csv output file with the labels to share or use in further analysis. Pandas Dataframes have a method to do this called .to_csv()."
   ]
  },
  {
   "cell_type": "code",
   "execution_count": null,
   "metadata": {
    "collapsed": false,
    "scrolled": false
   },
   "outputs": [],
   "source": [
    "labeled_data = benchmark.elast_clustering(data,'PPI',2015,3,interactive=True)\n",
    "print(labeled_data.sort_values('PPI'))\n",
    "\n",
    "labeled_data.to_csv('labeled_data_out.csv')"
   ]
  },
  {
   "cell_type": "code",
   "execution_count": null,
   "metadata": {
    "collapsed": true
   },
   "outputs": [],
   "source": []
  }
 ],
 "metadata": {
  "celltoolbar": "Raw Cell Format",
  "kernelspec": {
   "display_name": "Python 3",
   "language": "python",
   "name": "python3"
  },
  "language_info": {
   "codemirror_mode": {
    "name": "ipython",
    "version": 3
   },
   "file_extension": ".py",
   "mimetype": "text/x-python",
   "name": "python",
   "nbconvert_exporter": "python",
   "pygments_lexer": "ipython3",
   "version": "3.5.1"
  }
 },
 "nbformat": 4,
 "nbformat_minor": 0
}
