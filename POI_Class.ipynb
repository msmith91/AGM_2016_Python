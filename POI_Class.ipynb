{
 "cells": [
  {
   "cell_type": "code",
   "execution_count": 1,
   "metadata": {
    "collapsed": true
   },
   "outputs": [],
   "source": [
    "import pandas as pd\n",
    "import numpy as np\n",
    "import statsmodels.api as sm\n",
    "%matplotlib inline\n",
    "import matplotlib.pyplot as plt"
   ]
  },
  {
   "cell_type": "code",
   "execution_count": null,
   "metadata": {
    "collapsed": true
   },
   "outputs": [],
   "source": [
    "class Benchmark(object):\n",
    "    \n",
    "    def read_data(csv_path):\n",
    "        try:\n",
    "            data = pd.read_csv(csv_path)\n",
    "            data.columns = ['category','year','market_channel','department',\n",
    "                'roi_range','number_of_tpr_weeks','number_of_display_weeks',\n",
    "                'number_of_feature_weeks','number_of_event_weeks','mfr_roi_value',\n",
    "                'trade_direct_promo_spend','number_of_weeks','PPI','BP',\n",
    "                'DISO','FEAO','FEDI']\n",
    "            \n",
    "        except ValueError:\n",
    "            print('File is either unavailable or non-existent.')\n",
    "        \n",
    "        return data\n",
    "\n",
    "    def find_roi(in_data,agg_var='category',year=2015):\n",
    "        roi_data = in_data[[agg_var,'year','roi_range','mfr_roi_value','trade_direct_promo_spend']]\n",
    "        roi_data = roi_data[(roi_data.year==year) & (roi_data.roi_range.notnull())]\n",
    "        roi_pivot = pd.pivot_table(roi_data,values=['mfr_roi_value','trade_direct_promo_spend'], \n",
    "                                   index=[agg_var],aggfunc='sum')\n",
    "\n",
    "        roi_pivot['roi'] = (roi_pivot['mfr_roi_value']/roi_pivot['trade_direct_promo_spend']) + 1\n",
    "        \n",
    "        return roi_pivot.drop(roi_pivot.columns[[0,1]],axis=1)\n",
    "        \n",
    "    def find_coeff(in_data,agg_var,coeff):\n",
    "        return pd.pivot_table(in_data,values=[coeff],index=[agg_var],aggfunc='mean')\n",
    "        \n",
    "    def graph(formula,x_range):\n",
    "        x = np.array(x_range)\n",
    "        y = eval(formula)\n",
    "        plt.plot(x,y)\n",
    "        \n",
    "    def coeff_roi_reg(in_data,agg_var,year,norms_coeff,path='none'):\n",
    "        coeff_roi_data = pd.merge(Benchmark.find_roi(in_data,agg_var,year),\n",
    "                                  Benchmark.find_coeff(in_data,agg_var,norms_coeff),\n",
    "                                  left_index=True, right_index=True)\n",
    "        coeff_roi_data = coeff_roi_data[coeff_roi_data['roi'].notnull() & coeff_roi_data[norms_coeff].notnull()]\n",
    "        \n",
    "        roi = coeff_roi_data['roi']\n",
    "        coeff = sm.add_constant(coeff_roi_data[norms_coeff])\n",
    "        \n",
    "        model = sm.OLS(roi,coeff)\n",
    "        results = model.fit()\n",
    "        #find equation for graph\n",
    "        intercept = round(results.params[0],3)\n",
    "        coeff_effect = round(results.params[1],3)\n",
    "        trendline = str(intercept)+'+x*'+str(coeff_effect)\n",
    "        r2 = round( results.rsquared, 3)\n",
    "        \n",
    "        plt.plot(coeff[norms_coeff],roi,'o')\n",
    "        \n",
    "        Benchmark.graph(trendline,coeff[norms_coeff])\n",
    "        \n",
    "        plt.xlabel(norms_coeff)\n",
    "        plt.ylabel('ROI')\n",
    "        plt.title('Promo ROI vs ' + norms_coeff + ' by ' + agg_var)        \n",
    "        plt.text(min(coeff[norms_coeff]),max(roi)-.3,'ROI ~ ' + str(intercept) + str(coeff_effect) + '*' + norms_coeff \n",
    "                 + '\\n' + 'R-Squared: '+str(r2))\n",
    "        if(path=='none'):\n",
    "            plt.show()\n",
    "        else:\n",
    "            plt.savefig(path)"
   ]
  }
 ],
 "metadata": {
  "kernelspec": {
   "display_name": "Python 3",
   "language": "python",
   "name": "python3"
  },
  "language_info": {
   "codemirror_mode": {
    "name": "ipython",
    "version": 3
   },
   "file_extension": ".py",
   "mimetype": "text/x-python",
   "name": "python",
   "nbconvert_exporter": "python",
   "pygments_lexer": "ipython3",
   "version": "3.4.3"
  }
 },
 "nbformat": 4,
 "nbformat_minor": 0
}
